{
 "cells": [
  {
   "cell_type": "markdown",
   "id": "216a822a-8bb3-484d-aa05-ba75b5632465",
   "metadata": {},
   "source": [
    "# If there are contents in DynamoDB, delete items"
   ]
  },
  {
   "cell_type": "code",
   "execution_count": 1,
   "id": "a2ca3a54-a4bc-4705-9cfb-4ff76a763b12",
   "metadata": {
    "tags": []
   },
   "outputs": [],
   "source": [
    "# import boto3\n",
    "\n",
    "# region = 'us-west-2'\n",
    "\n",
    "# table_name = \"speech2text\"\n",
    "# dynamodb_client = boto3.resource('dynamodb',region_name='us-west-2')\n",
    "# table = dynamodb_client.Table(table_name)\n",
    "\n",
    "# # Scan the table to get all the items\n",
    "# scan = table.scan()\n",
    "# with table.batch_writer() as batch:\n",
    "#     while 'Items' in scan and len(scan['Items']) > 0:\n",
    "#         for item in scan['Items']:\n",
    "#             # print(item)\n",
    "#             # Delete each item\n",
    "#             batch.delete_item(Key={'ContactID': item['ContactID'], 'SaidTimeStamp': item['SaidTimeStamp']})\n",
    "#         # Scan for more items (DynamoDB can limit the number of items returned by scan, use 'ExclusiveStartKey' to continue scanning)\n",
    "#         if 'LastEvaluatedKey' in scan:\n",
    "#             scan = table.scan(ExclusiveStartKey=scan['LastEvaluatedKey'])\n",
    "#         else:\n",
    "#             break\n",
    "\n",
    "# print(f\"All items in the table '{table_name}' have been deleted.\")"
   ]
  },
  {
   "cell_type": "markdown",
   "id": "4fc50f2a-0d5d-4f2d-baf3-7b13349fa427",
   "metadata": {},
   "source": [
    "# Do inference using faster whisper endpoint "
   ]
  },
  {
   "cell_type": "code",
   "execution_count": 3,
   "id": "eb27ed18-000d-4076-9af9-1e3d03397671",
   "metadata": {
    "tags": []
   },
   "outputs": [
    {
     "name": "stdout",
     "output_type": "stream",
     "text": [
      "1310\n"
     ]
    },
    {
     "data": {
      "text/plain": [
       "{'Key': 'datasets/midea_data/midea_dialogue/short/0e46d005-4c13-4300-add0-683761ad3ebd_100_agent.wav',\n",
       " 'LastModified': datetime.datetime(2024, 6, 18, 6, 36, 30, tzinfo=tzlocal()),\n",
       " 'ETag': '\"51473fb6a3143464373a336d57709039\"',\n",
       " 'Size': 160044,\n",
       " 'StorageClass': 'STANDARD'}"
      ]
     },
     "execution_count": 3,
     "metadata": {},
     "output_type": "execute_result"
    }
   ],
   "source": [
    "import boto3\n",
    "\n",
    "def list_s3_contents(bucket_name, prefix):\n",
    "    # Initialize a session using Amazon S3\n",
    "    s3 = boto3.client('s3')\n",
    "\n",
    "    # Initialize the variables\n",
    "    continuation_token = None\n",
    "    contents = []\n",
    "\n",
    "    while True:\n",
    "        if continuation_token:\n",
    "            response = s3.list_objects_v2(\n",
    "                Bucket=bucket_name, \n",
    "                Prefix=prefix,\n",
    "                ContinuationToken=continuation_token\n",
    "            )\n",
    "        else:\n",
    "            response = s3.list_objects_v2(\n",
    "                Bucket=bucket_name, \n",
    "                Prefix=prefix\n",
    "            )\n",
    "\n",
    "        if 'Contents' in response:\n",
    "            contents.extend(response['Contents'])\n",
    "\n",
    "        if response.get('IsTruncated'):  # if the response is truncated, there are more keys to retrieve\n",
    "            continuation_token = response.get('NextContinuationToken')\n",
    "        else:\n",
    "            break\n",
    "\n",
    "    return contents\n",
    "\n",
    "# Define the bucket name and prefix\n",
    "# s3_uri = 's3://sagemaker-us-west-2-452145973879/datasets/midea_data/midea_dialogue/short_30s/'\n",
    "s3_uri = 's3://sagemaker-us-west-2-452145973879/datasets/midea_data/midea_dialogue/short/'\n",
    "\n",
    "bucket_name = s3_uri.split('/')[2]\n",
    "prefix = '/'.join(s3_uri.split('/')[3:])\n",
    "\n",
    "# List the contents\n",
    "contents = list_s3_contents(bucket_name, prefix)\n",
    "# for obj in contents:\n",
    "#     print(obj['Key'])\n",
    "\n",
    "print(len(contents))\n",
    "contents[2]"
   ]
  },
  {
   "cell_type": "markdown",
   "id": "1c8dc4fd-2c27-41d6-9ba2-8d739cd8bdd8",
   "metadata": {},
   "source": [
    "## For demo, only keep 3 dialogues"
   ]
  },
  {
   "cell_type": "code",
   "execution_count": null,
   "id": "7522b325-3574-47d3-8e91-072759ada9d7",
   "metadata": {
    "tags": []
   },
   "outputs": [],
   "source": [
    "# dialogue_ids = [\n",
    "#     '3ee4b9f4-7674-4978-9066-d89b46c9adb4',\n",
    "#     '8fcf8eb4-d4da-4146-a42c-d3ba711b4ed0',\n",
    "#     'aec95ea8-e448-45a6-be21-63a6b6326b9f',\n",
    "# #    '942df28b-6803-4795-ab8b-7cba16a92ea8'\n",
    "# ]\n",
    "\n",
    "# contents_demo = []\n",
    "\n",
    "# for content in contents:\n",
    "#     for dialogue_id in dialogue_ids:\n",
    "#         if dialogue_id in content['Key']:\n",
    "#             contents_demo.append(content)\n",
    "#             break\n",
    "\n",
    "# print(len(contents_demo))\n",
    "# contents_demo[0]\n",
    "\n",
    "contents_demo = contents"
   ]
  },
  {
   "cell_type": "code",
   "execution_count": null,
   "id": "74f73814-d148-4dc6-8970-a4c709686356",
   "metadata": {
    "tags": []
   },
   "outputs": [],
   "source": [
    "# import json\n",
    "# import urllib.parse\n",
    "# import boto3\n",
    "# import os\n",
    "# import logging\n",
    "# from tqdm import tqdm\n",
    "\n",
    "# import sagemaker\n",
    "# import boto3\n",
    "# # Get the SageMaker session and default S3 bucket\n",
    "# # sagemaker_session = sagemaker.Session()\n",
    "# sagemaker_session = sagemaker.session.Session()\n",
    "# bucket = sagemaker_session.default_bucket()\n",
    "# region = sagemaker_session._region_name\n",
    "# role = sagemaker.get_execution_role()\n",
    "# print(f\"bucket: {bucket}, role:{role}, region: {region}\")\n",
    "\n",
    "# #dynamodb_client = boto3.resource('dynamodb',region_name='us-west-2')\n",
    "# #s3_client = boto3.client('s3',region_name='us-west-2')\n",
    "# sagemaker_runtime= boto3.client('runtime.sagemaker',region_name=region)\n",
    "# logger = logging.getLogger()\n",
    "# logger.setLevel(\"INFO\")\n",
    "# #conversation_table = dynamodb_client.Table(\"speech2text\")\n",
    "# s3_bucket = bucket\n",
    "# endpoint_name = 'faster-whisper-hf-real-time-endpoint-1719447623'\n",
    "\n",
    "# num_test = min(10000, len(contents_demo))\n",
    "# for content in tqdm(contents_demo[:num_test], total=num_test):\n",
    "#     key = urllib.parse.unquote_plus(content['Key'], encoding='utf-8')\n",
    "#     try:\n",
    "#         logger.info(\"s3_bucket:\"+s3_bucket)\n",
    "#         logger.info(\"key:\"+key)\n",
    "#         data = json.dumps({\"s3_bucket\":s3_bucket,\"key\":key})\n",
    "#         response = sagemaker_runtime.invoke_endpoint(EndpointName=endpoint_name,ContentType='application/json',Body=data)\n",
    "#             #logging(\"type:\"+type(response))\n",
    "#             #logging(\"response:\"+str(response))\n",
    "#             #results = json.loads(response['Body'].read().decode())\n",
    "#             #response = s3_client.get_object(Bucket=s3_bucket, Key=key)\n",
    "#         '''\n",
    "#             with conversation_table.batch_writer() as batch:\n",
    "#                 for item in results:\n",
    "#                     print(item)\n",
    "#                     response = batch.put_item(Item={\n",
    "#                     \"ContactID\": item[\"contact_id\"],\n",
    "#                     \"SaidTimeStamp\": item[\"time_stamp\"],\n",
    "#                     \"Speaker\": item[\"speaker\"],\n",
    "#                     \"Words\": item[\"words\"]\n",
    "#                     })\n",
    "#             #return response['ContentType']\n",
    "#         '''\n",
    "#         #return \"success\"\n",
    "#         # print(response)\n",
    "#     except:\n",
    "#         logger.info(\"ignore known defects\")"
   ]
  },
  {
   "cell_type": "markdown",
   "id": "4145dc5c-b06f-47da-8cb8-9cb04beffb4c",
   "metadata": {},
   "source": [
    "# Read data from DynamoDB"
   ]
  },
  {
   "cell_type": "code",
   "execution_count": 4,
   "id": "e965054b-2830-4156-8461-46f538d3a19d",
   "metadata": {
    "tags": []
   },
   "outputs": [
    {
     "name": "stdout",
     "output_type": "stream",
     "text": [
      "2071 {'ContactID': '47627d48-9452-4639-8d27-154b61a3a185', 'SaidTimeStamp': Decimal('0'), 'Words': '執行執勢經營', 'Speaker': 'customer'}\n"
     ]
    }
   ],
   "source": [
    "import boto3\n",
    "\n",
    "# Initialize a session using Amazon DynamoDB\n",
    "dynamodb = boto3.resource('dynamodb')\n",
    "\n",
    "# Specify the DynamoDB table\n",
    "table_name = 'speech2text'\n",
    "table = dynamodb.Table(table_name)\n",
    "\n",
    "# Scan the table\n",
    "def scan_table(table):\n",
    "    response = table.scan()\n",
    "    data = response['Items']\n",
    "\n",
    "    while 'LastEvaluatedKey' in response:\n",
    "        response = table.scan(ExclusiveStartKey=response['LastEvaluatedKey'])\n",
    "        data.extend(response['Items'])\n",
    "    \n",
    "    return data\n",
    "\n",
    "# Get items from the table\n",
    "items = scan_table(table)\n",
    "\n",
    "# # Print the items\n",
    "# for item in items:\n",
    "#     print(item)\n",
    "print(len(items), items[0])"
   ]
  },
  {
   "cell_type": "code",
   "execution_count": 5,
   "id": "558f2a8b-9307-4c23-a306-18f9b2d2ee1f",
   "metadata": {
    "tags": []
   },
   "outputs": [
    {
     "name": "stderr",
     "output_type": "stream",
     "text": [
      "/tmp/ipykernel_9491/327332243.py:10: DeprecationWarning: DataFrameGroupBy.apply operated on the grouping columns. This behavior is deprecated, and in a future version of pandas the grouping columns will be excluded from the operation. Either pass `include_groups=False` to exclude the groupings or explicitly select the grouping columns after groupby to silence this warning.\n",
      "  grouped = df.groupby('ContactID').apply(\n"
     ]
    },
    {
     "data": {
      "text/html": [
       "<div>\n",
       "<style scoped>\n",
       "    .dataframe tbody tr th:only-of-type {\n",
       "        vertical-align: middle;\n",
       "    }\n",
       "\n",
       "    .dataframe tbody tr th {\n",
       "        vertical-align: top;\n",
       "    }\n",
       "\n",
       "    .dataframe thead th {\n",
       "        text-align: right;\n",
       "    }\n",
       "</style>\n",
       "<table border=\"1\" class=\"dataframe\">\n",
       "  <thead>\n",
       "    <tr style=\"text-align: right;\">\n",
       "      <th></th>\n",
       "      <th>contact_id</th>\n",
       "      <th>content_v7_ckpt60</th>\n",
       "    </tr>\n",
       "  </thead>\n",
       "  <tbody>\n",
       "    <tr>\n",
       "      <th>0</th>\n",
       "      <td>0e46d005-4c13-4300-add0-683761ad3ebd</td>\n",
       "      <td>agent: 唔講東區服務部喎姓楊有咩幫到你呀\\ncustomer: 你好呀楊小姐我姓葉㗎\\...</td>\n",
       "    </tr>\n",
       "    <tr>\n",
       "      <th>1</th>\n",
       "      <td>11383068-87cc-4d16-a7b2-bc5a518c7472</td>\n",
       "      <td>agent: 你，係你好通知\\ncustomer: 係你好\\ncustomer: 係我屋企嗰...</td>\n",
       "    </tr>\n",
       "    <tr>\n",
       "      <th>2</th>\n",
       "      <td>3ee4b9f4-7674-4978-9066-d89b46c9adb4</td>\n",
       "      <td>agent: 早晨都稍後復過性樂嘅咁吖吖\\ncustomer: 喂係係呀我想問問呢我有一個嗰...</td>\n",
       "    </tr>\n",
       "    <tr>\n",
       "      <th>3</th>\n",
       "      <td>47627d48-9452-4639-8d27-154b61a3a185</td>\n",
       "      <td>customer: 執行執勢經營\\ncustomer: 執行執勢經營\\ncustomer: ...</td>\n",
       "    </tr>\n",
       "    <tr>\n",
       "      <th>4</th>\n",
       "      <td>53b4c19b-4042-46ba-a4e6-a1893f4704d4</td>\n",
       "      <td>agent: 有咩幫到你\\ncustomer: 唔該我屋企有個蒸氣焗爐呀\\nagent: 係...</td>\n",
       "    </tr>\n",
       "  </tbody>\n",
       "</table>\n",
       "</div>"
      ],
      "text/plain": [
       "                             contact_id  \\\n",
       "0  0e46d005-4c13-4300-add0-683761ad3ebd   \n",
       "1  11383068-87cc-4d16-a7b2-bc5a518c7472   \n",
       "2  3ee4b9f4-7674-4978-9066-d89b46c9adb4   \n",
       "3  47627d48-9452-4639-8d27-154b61a3a185   \n",
       "4  53b4c19b-4042-46ba-a4e6-a1893f4704d4   \n",
       "\n",
       "                                   content_v7_ckpt60  \n",
       "0  agent: 唔講東區服務部喎姓楊有咩幫到你呀\\ncustomer: 你好呀楊小姐我姓葉㗎\\...  \n",
       "1  agent: 你，係你好通知\\ncustomer: 係你好\\ncustomer: 係我屋企嗰...  \n",
       "2  agent: 早晨都稍後復過性樂嘅咁吖吖\\ncustomer: 喂係係呀我想問問呢我有一個嗰...  \n",
       "3  customer: 執行執勢經營\\ncustomer: 執行執勢經營\\ncustomer: ...  \n",
       "4  agent: 有咩幫到你\\ncustomer: 唔該我屋企有個蒸氣焗爐呀\\nagent: 係...  "
      ]
     },
     "execution_count": 5,
     "metadata": {},
     "output_type": "execute_result"
    }
   ],
   "source": [
    "import pandas as pd\n",
    "from decimal import Decimal\n",
    "\n",
    "# Convert the list of dictionaries to a DataFrame\n",
    "df = pd.DataFrame(items)\n",
    "# Sort the DataFrame by 'ContactID' and 'SaidTimeStamp'\n",
    "df = df.sort_values(by=['ContactID', 'SaidTimeStamp'])\n",
    "\n",
    "# Group by 'ContactID' and concatenate 'Words' with 'Speaker' prefix\n",
    "grouped = df.groupby('ContactID').apply(\n",
    "    lambda x: ''.join(f\"{row['Speaker']}: {row['Words']}\\n\" for _, row in x.iterrows())\n",
    ").reset_index(name='content')\n",
    "\n",
    "# Rename the columns to match the image\n",
    "ckpt_name = 'v7_ckpt60'\n",
    "grouped.columns = ['contact_id', f'content_{ckpt_name}']\n",
    "\n",
    "dialogue_col = f'content_{ckpt_name}'\n",
    "\n",
    "df = grouped\n",
    "df.head()"
   ]
  },
  {
   "cell_type": "markdown",
   "id": "4ead7dca-2de8-4d5b-9a92-cad80aa88778",
   "metadata": {},
   "source": [
    "# Extract infomation from dialogue"
   ]
  },
  {
   "cell_type": "markdown",
   "id": "b4411be9-7e34-4e7a-9dc4-3b7c4e987087",
   "metadata": {},
   "source": [
    "# Qwen2 series"
   ]
  },
  {
   "cell_type": "markdown",
   "id": "3a2827d5-0ad5-401e-87e4-de82e64380f5",
   "metadata": {},
   "source": [
    "## Qwen2-72B-Instruct-AWQ"
   ]
  },
  {
   "cell_type": "code",
   "execution_count": null,
   "id": "bcdb81cf-ffb7-4678-b244-d23f0b1bd90d",
   "metadata": {
    "tags": []
   },
   "outputs": [],
   "source": [
    "#%pip install openai"
   ]
  },
  {
   "cell_type": "code",
   "execution_count": 6,
   "id": "d92518de-27b3-4b6f-a186-8a2b37779392",
   "metadata": {
    "tags": []
   },
   "outputs": [],
   "source": [
    "## deploy using vllm\n",
    "# Set OpenAI's API key and API base to use vLLM's API server.\n",
    "from openai import OpenAI\n",
    "\n",
    "openai_api_key = \"EMPTY\"\n",
    "openai_api_base = \"http://localhost:8000/v1\"\n",
    "model_id = \"Qwen2-72B-Instruct-AWQ\"\n",
    "\n",
    "stop_token_ids = ''\n",
    "temp = 0.8\n",
    "\n",
    "# Create an OpenAI client to interact with the API server\n",
    "client = OpenAI(\n",
    "    api_key=openai_api_key,\n",
    "    base_url=openai_api_base,\n",
    ")\n",
    "\n",
    "def predict(message, history):\n",
    "    # Convert chat history to OpenAI format\n",
    "    history_openai_format = [{\n",
    "        \"role\": \"system\",\n",
    "        \"content\": \"You are a great ai assistant.\"\n",
    "    }]\n",
    "    for human, assistant in history:\n",
    "        history_openai_format.append({\"role\": \"user\", \"content\": human})\n",
    "        history_openai_format.append({\n",
    "            \"role\": \"assistant\",\n",
    "            \"content\": assistant\n",
    "        })\n",
    "    history_openai_format.append({\"role\": \"user\", \"content\": message})\n",
    "\n",
    "    # Create a chat completion request and send it to the API server\n",
    "    stream = client.chat.completions.create(\n",
    "        model=model_id,  # Model name to use\n",
    "        messages=history_openai_format,  # Chat history\n",
    "        temperature=temp,  # Temperature for text generation\n",
    "        # stream=True,  # Stream response\n",
    "        extra_body={\n",
    "            'repetition_penalty':\n",
    "            1,\n",
    "            'stop_token_ids': [\n",
    "                int(id.strip()) for id in stop_token_ids.split(',')\n",
    "                if id.strip()\n",
    "            ] if stop_token_ids else []\n",
    "        })\n",
    "\n",
    "    return stream"
   ]
  },
  {
   "cell_type": "code",
   "execution_count": 7,
   "id": "1f6ab23e-d32e-42d3-8abd-95c39ffbd435",
   "metadata": {
    "tags": []
   },
   "outputs": [],
   "source": [
    "# SageMaker Endpoint\n",
    "import json\n",
    "\n",
    "def invoke_endpoint(predictor, tokenizer, prompt, system_prompt):\n",
    "\n",
    "    # prompt = \"\"\"'下面是一段agent与customer的对话\\nagent: 咁嘅\\ncustomer: 你好呀,我正在用你們的抽濕機\\ncustomer: 用咗半年到啦咁而家呢佢壞咗呀佢呢\\nagent: 嗨\\ncustomer: 濕濕咗嘅時候呢嗰啲水呢直接流落去地下\\ncustomer: 接不到那些水\\nagent: 請問點稱呼呀?\\nagent: 余先生,請問你可否給我抽濕口罩?\\ncustomer: 我姓余的\\nagent: 手機的型號\\ncustomer: RADY200H\\nagent: 多謝大家\\ncustomer: Thank you for watching\\nagent: OK\\ncustomer: 拜拜\\nagent: 又係咪check我嗰個水準\\nagent: 放入去嘅時候,位置係正常\\nagent: 唔好擺尾之類\\ncustomer: 冇嘅冇排名\\nagent: Check過冇問題嘅,如果係可以搵錢\\nagent: 咁請問你嗰個抽濕機係買咗一年到?嘛係咪?\\nagent: 上年九月抽濕機\\ncustomer: 上年九月買的\\nagent: 请问您的购买单和保用证是否存在?\\ncustomer: 喺度嘅\\nagent: 不存在的,如果我可以找师傅上来帮你看,麻烦你出示给他\\nagent: 請問您的地址在哪裡?\\ncustomer: 柴灣道111號\\ncustomer: 高威港\\nagent: 高威國幾座幾樓幾室\\ncustomer: 第四座,四座八樓私宅\\nagent: SipoCat\\ncustomer: 係冇差\\nagent: 麻煩你等一等我睇下如果係柴灣嘅可以幾時安排到過嚟先\\ncustomer: 唔\\nagent: 嚟緊星期二 23 號 12 點,\\nagent: 屋企會唔會有忍\\ncustomer: 哎呀\\nagent: 咁我呢度幫你安排返啦係余生嘅到時上嚟之前師傅可以打返90997\\nagent: 910 呢個電話高威國四座扮cat嘅啱啱\\ncustomer: 我留兩個電話給你\\nagent: 好呀你再講呀\\ncustomer: 我太太梁小姐\\nagent: 90256922,呢個係搵邊位??\\nagent: 即係阿梁小姐\\nagent: 打誰的電話先?\\nagent: 由我講吧!\\ncustomer: 你打這個先啦,我再留多個屋企電話比你啦\\ncustomer: 以5687021\\nagent: 屋企電話25687021,如果係到時打電話嘅時候,可以搵返梁小姐係\\nagent: 902-56922\\ncustomer: 係冇錯\\nagent: 好得,我呢度幫你安排返\\nagent: 23 號 12 點至 5 點過嚟\\ncustomer: 星期五至五點,星期二。\\nagent: 係,冇錯,有咩其他可以幫到你?\\ncustomer: OK,好呀,\\nagent: 都係打電話嚟,多謝!\\ncustomer: 係冇?啦,\\nagent: 拜拜\\ncustomer: OK\\n\\n\\n请从上面的对话中抽取如下信息，并以json格式返回，如果对话中没有提到相应字段的内容，则填\"\"：\\n {\"customerType\": \"个人\", \"customerName\": \"溫先生\", \"phoneNumber1\": \"\", \"phoneNumber2\": \"\", \"email\": \"\", \"address\": \"楊逸居第三座,九樓,A7\", \"productBrand\": \"Toshiba\", \"productCategoryName\": \"\", \"serialNumber\": \"ER-GD400HK\", \"srType\": \"维修\", \"srSubType\": \"维修\", \"symptomDescription\": \"燈膽燒了\", \"customerRequest\": \"維修法\", \"refNo\": \"\", \"selloutInvoiceNum\": \"\", \"salesDealerName\": \"\", \"installDealerName\": \"\"}\\n \\n注意只返回抽取的json格式的结果，不返回其它额外信息。 \\n'\"\"\"\n",
    "    # system_prompt = \"You are a helpful assistant.\"\n",
    "    # system_prompt = \"你是一位资深的客服中心坐席经理，你的任务是从给定的对话中抽取要求的关键信息并按要求的格式返回结果。\"\n",
    "\n",
    "    messages = [\n",
    "            {\"role\": \"system\", \"content\": system_prompt},\n",
    "            {\"role\": \"user\", \"content\": prompt}\n",
    "    ]\n",
    "\n",
    "    prompt = tokenizer.apply_chat_template(\n",
    "        messages,\n",
    "        tokenize=False,\n",
    "        add_generation_prompt=True\n",
    "    )\n",
    "\n",
    "    response = predictor.predict(\n",
    "        {\n",
    "            \"inputs\": prompt, \n",
    "             \"parameters\": \n",
    "             {\n",
    "                 \"max_new_tokens\": 4096,\n",
    "                 # Add any other sampling parameters as needed\n",
    "                 \"temperature\": 0.7,\n",
    "                 \"top_k\": 5,\n",
    "                 \"top_p\": 0.9,\n",
    "                 # \"stop_token_ids\": [], \n",
    "                 # \"stop\": [\"\\nASSISTANT\", \"\\nUSER:\"],\n",
    "                 \"include_stop_str_in_output\": False,\n",
    "                 # \"skip_special_tokens\": True,\n",
    "                 \"ignore_eos\": False,\n",
    "                 \"repetition_penalty\": 1,\n",
    "             }\n",
    "        }\n",
    "    )\n",
    "    \n",
    "    generated_text = json.loads(response.decode('utf-8'))['generated_text']\n",
    "    \n",
    "    return generated_text"
   ]
  },
  {
   "cell_type": "code",
   "execution_count": 8,
   "id": "5bfa8acc-b873-4e74-99fd-8df151294af1",
   "metadata": {
    "scrolled": true,
    "tags": []
   },
   "outputs": [],
   "source": [
    "# from transformers import AutoTokenizer\n",
    "# import sagemaker\n",
    "# from sagemaker import Model, image_uris, serializers, deserializers\n",
    "# from tqdm import tqdm\n",
    "# import time\n",
    "# import json\n",
    "\n",
    "# role = sagemaker.get_execution_role()  # execution role for the endpoint\n",
    "# sess = sagemaker.session.Session()  # sagemaker session for interacting with different AWS APIs\n",
    "# region = sess._region_name  # region name of the current SageMaker Studio environment\n",
    "# account_id = sess.account_id()  # account_id of the current SageMaker Studio environment\n",
    "\n",
    "# endpoint_name = 'lmi-model-2024-06-20-02-23-51-303'\n",
    "\n",
    "# predictor = sagemaker.Predictor(\n",
    "#     endpoint_name=endpoint_name, \n",
    "#     sagemaker_session=sess,\n",
    "#     serializer=serializers.JSONSerializer()\n",
    "# )\n",
    "\n",
    "# model_dir = '/home/ec2-user/SageMaker/efs/Models/Qwen2-72B-Instruct-AWQ'\n",
    "# tokenizer = AutoTokenizer.from_pretrained(model_dir)\n",
    "\n",
    "# model_name = 'qwen2-72b'\n",
    "\n",
    "# num_test = 100\n",
    "# for i, row in tqdm(df[:num_test].iterrows(), total=df[:num_test].shape[0]):\n",
    "#     content = row[dialogue_col]\n",
    "    \n",
    "# #     prompt = f\"\"\"下面是一段agent与customer的对话\n",
    "# # {content}\n",
    "\n",
    "# # 请从上面的对话中抽取如下信息，并以json格式返回，如果对话中没有提到相应字段的内容，则填\"\"：\n",
    "# #  {{\"customerType\": \"个人\", \"customerName\": \"溫先生\", \"phoneNumber1\": \"\", \"phoneNumber2\": \"\", \"email\": \"\", \"address\": \"楊逸居第三座,九樓,A7\", \"productBrand\": \"Toshiba\", \"productCategoryName\": \"\", \"serialNumber\": \"ER-GD400HK\", \"srType\": \"维修\", \"srSubType\": \"维修\", \"symptomDescription\": \"燈膽燒了\", \"customerRequest\": \"維修法\", \"refNo\": \"\", \"selloutInvoiceNum\": \"\", \"salesDealerName\": \"\", \"installDealerName\": \"\"}}\n",
    " \n",
    "# # 注意只返回抽取的json格式的结果，不返回其它额外信息。 \n",
    "# # \"\"\"\n",
    "#     prompt = f\"\"\"这是一个命名实体识别任务，需要你参考<样例>，对给定的<文本>(包含了一段agent与customer的对话)抽取对应的实体，注意只返回抽取的json结果，不要返回任何其它额外信息。\n",
    "\n",
    "# <样例>\n",
    "# 输入：{example}\n",
    "# 输出：{{\"customer_type\": \"Person\",\"sr_type\": \"Repair\", \"sr_sub_type\": \"Repair\", \"last_name\": \"余先生\", \"country_code\": \"HK\", \"phone_number1\": \"90997910\", \"phone_number2\": \"<NULL>\", \"email\": \"<NULL>\", \"state_name\": \"港島\", \"city_name\": \"東區\", \"address\": \"港島 東區 柴灣 高威閣 4座 8樓 C室\", \"reference_num\": \"<NULL>\", \"product_brand\": \"TOSHIBA\", \"product_category\": \"<NULL>\", \"symptom_description\": \"機件故障\", \"customer_request\": \"<NULL>\"}}\n",
    "\n",
    "# <文本>\n",
    "# 输入：{content}\n",
    "# 输出：\n",
    "# \"\"\"\n",
    "    \n",
    "#     try:\n",
    "#         start_time = time.time()\n",
    "\n",
    "#         ## vllm direct deployment\n",
    "#         response = predict(prompt, [])\n",
    "#         generated_text = response.choices[0].message.content\n",
    "\n",
    "#         # # sagemaker endpoint deployment\n",
    "#         # generated_text = invoke_endpoint(predictor, tokenizer, prompt)\n",
    "\n",
    "#         time_cost = time.time() - start_time\n",
    "\n",
    "#         df.loc[i, f'extracted_info_{model_name}'] = generated_text\n",
    "#         res = json.loads(generated_text)\n",
    "#         if isinstance(res, dict):\n",
    "#             for k, v in res.items():\n",
    "#                 df.loc[i, f\"{k}_{model_name}\"] = v\n",
    "\n",
    "#         df.loc[i, f'time_cost_{model_name}'] = time_cost\n",
    "    \n",
    "#     except Exception as e:\n",
    "#         print(f\"Exception: {e}\")\n",
    "#         print(f\"contact_id: {row['contact_id']}\")\n",
    "#         print(f\"result: {generated_text}\")\n",
    "# df.head()"
   ]
  },
  {
   "cell_type": "markdown",
   "id": "4c05cfe8-c658-4257-9aab-a39ba0c1fa1a",
   "metadata": {},
   "source": [
    "## Qwen2-7B-Instruct"
   ]
  },
  {
   "cell_type": "code",
   "execution_count": 9,
   "id": "a66a40df-96ee-472e-a50e-7478ce3d8a24",
   "metadata": {
    "tags": []
   },
   "outputs": [
    {
     "name": "stderr",
     "output_type": "stream",
     "text": [
      "/home/ec2-user/SageMaker/efs/conda_envs/qwen_py310/lib/python3.10/site-packages/tqdm/auto.py:21: TqdmWarning: IProgress not found. Please update jupyter and ipywidgets. See https://ipywidgets.readthedocs.io/en/stable/user_install.html\n",
      "  from .autonotebook import tqdm as notebook_tqdm\n"
     ]
    },
    {
     "name": "stdout",
     "output_type": "stream",
     "text": [
      "sagemaker.config INFO - Not applying SDK defaults from location: /etc/xdg/sagemaker/config.yaml\n",
      "sagemaker.config INFO - Not applying SDK defaults from location: /home/ec2-user/.config/sagemaker/config.yaml\n"
     ]
    },
    {
     "name": "stderr",
     "output_type": "stream",
     "text": [
      "Special tokens have been added in the vocabulary, make sure the associated word embeddings are fine-tuned or trained.\n",
      "  6%|▌         | 1/18 [00:05<01:39,  5.83s/it]"
     ]
    },
    {
     "name": "stdout",
     "output_type": "stream",
     "text": [
      "{\n",
      "  \"sr_type\": \"Inquiry\",\n",
      "  \"last_name\": \"葉女士\",\n",
      "  \"phone_number1\": \"\",\n",
      "  \"state_name\": \"\",\n",
      "  \"city_name\": \"\",\n",
      "  \"address\": \"\",\n",
      "  \"product_category\": \"飯煲\",\n",
      "  \"product_brand\": \"\",\n",
      "  \"serial_number\": \"RC-18NMF IH-WT\",\n",
      "  \"symptom_description\": \"煮飯唔夠唔甜，出現C14錯誤，產品問題\",\n",
      "  \"summary\": \"葉女士購買一個月的蘇寧飯煲出現煮飯不夠甜及C14錯誤，經多次嘗試後問題未解決，疑責產品問題。\"\n",
      "}\n"
     ]
    },
    {
     "name": "stderr",
     "output_type": "stream",
     "text": [
      " 11%|█         | 2/18 [00:11<01:28,  5.55s/it]"
     ]
    },
    {
     "name": "stdout",
     "output_type": "stream",
     "text": [
      "{\n",
      "  \"sr_type\": \"Repair\",\n",
      "  \"last_name\": \"宋先生\",\n",
      "  \"phone_number1\": \"\",\n",
      "  \"state_name\": \"\",\n",
      "  \"city_name\": \"\",\n",
      "  \"address\": \"\",\n",
      "  \"product_category\": \"Stove\",\n",
      "  \"product_brand\": \"Sogo\",\n",
      "  \"serial_number\": \"MS5TR630SC\",\n",
      "  \"symptom_description\": \"无法启动，灯不亮，蒸煮功能无法使用，有水漏到桌面\",\n",
      "  \"summary\": \"客户报告其Sogo品牌蒸炉无法启动，灯不亮，且有水漏到桌面，询问维修事宜。\"\n",
      "}\n"
     ]
    },
    {
     "name": "stderr",
     "output_type": "stream",
     "text": [
      " 17%|█▋        | 3/18 [00:18<01:36,  6.42s/it]"
     ]
    },
    {
     "name": "stdout",
     "output_type": "stream",
     "text": [
      "{\n",
      "  \"sr_type\": \"Repair\",\n",
      "  \"last_name\": \"溫先生\",\n",
      "  \"phone_number1\": \"\",\n",
      "  \"state_name\": \"\",\n",
      "  \"city_name\": \"\",\n",
      "  \"address\": \"九龍尖沙咀柯士尖道楊逸居第三座九樓LIP禁九字A室\",\n",
      "  \"product_category\": \"微波爐\",\n",
      "  \"product_brand\": \"\",\n",
      "  \"serial_number\": \"ER-GD-400HK-XR\",\n",
      "  \"symptom_description\": \"燈膽燒壞\",\n",
      "  \"summary\": \"顧客溫先生有一個微波爐的燈膽燒壞，需要維修。顧客提供地址為九龍尖沙咀柯士尖道楊逸居第三座九樓LIP禁九字A室，預計師傅在星期一的12點至5點或3點後到達進行維修。\"\n",
      "}\n"
     ]
    },
    {
     "name": "stderr",
     "output_type": "stream",
     "text": [
      " 22%|██▏       | 4/18 [00:23<01:20,  5.77s/it]"
     ]
    },
    {
     "name": "stdout",
     "output_type": "stream",
     "text": [
      "{\n",
      "  \"sr_type\": \"Repair\",\n",
      "  \"last_name\": \"王先生\",\n",
      "  \"phone_number1\": \"\",\n",
      "  \"state_name\": \"\",\n",
      "  \"city_name\": \"\",\n",
      "  \"address\": \"\",\n",
      "  \"product_category\": \"蒸氣焗爐\",\n",
      "  \"product_brand\": \"\",\n",
      "  \"serial_number\": \"\",\n",
      "  \"symptom_description\": \"產品無水，但實際上有油，且在使用過程中出現漏水問題\",\n",
      "  \"summary\": \"顧客報告蒸氣焗爐在使用時出現無水問題，實際上產品內有油，且在之前的維修中存在漏水問題。\"\n",
      "}\n"
     ]
    },
    {
     "name": "stderr",
     "output_type": "stream",
     "text": [
      " 28%|██▊       | 5/18 [00:29<01:14,  5.74s/it]"
     ]
    },
    {
     "name": "stdout",
     "output_type": "stream",
     "text": [
      "{\n",
      "  \"sr_type\": \"Repair\",\n",
      "  \"last_name\": \"李女士\",\n",
      "  \"phone_number1\": \"\",\n",
      "  \"state_name\": \"星谷路\",\n",
      "  \"city_name\": \"\",\n",
      "  \"address\": \"雨晴軒 审座廿九詩\",\n",
      "  \"product_category\": \"蒸氣焗爐\",\n",
      "  \"product_brand\": \"\",\n",
      "  \"serial_number\": \"MS2PQ205C\",\n",
      "  \"symptom_description\": \"不出蒸氣\",\n",
      "  \"summary\": \"客户李女士的蒸氣焗爐不出蒸氣，预约师傅上门维修，费用为330元，如果现场可以维修则现场报价，否则需要额外的运输费用320元。\"\n",
      "}\n"
     ]
    },
    {
     "name": "stderr",
     "output_type": "stream",
     "text": [
      " 33%|███▎      | 6/18 [00:34<01:09,  5.77s/it]"
     ]
    },
    {
     "name": "stdout",
     "output_type": "stream",
     "text": [
      "{\n",
      "  \"sr_type\": \"Repair\",\n",
      "  \"last_name\": \"吴先生\",\n",
      "  \"phone_number1\": \"93645055\",\n",
      "  \"state_name\": \"\",\n",
      "  \"city_name\": \"\",\n",
      "  \"address\": \"\",\n",
      "  \"product_category\": \"Electric Fan\",\n",
      "  \"product_brand\": \"Toshiba\",\n",
      "  \"serial_number\": \"F AALY60HKQB\",\n",
      "  \"symptom_description\": \"遥控器电量消耗过快，需要频繁更换电池才能使用\",\n",
      "  \"summary\": \"客户吴先生报告购买的Toshiba电风扇遥控器电量消耗过快，需要频繁更换电池。已确认型号为F AALY60HKQB，使用时间约三周。\"\n",
      "}\n"
     ]
    },
    {
     "name": "stderr",
     "output_type": "stream",
     "text": [
      " 39%|███▉      | 7/18 [00:39<01:00,  5.50s/it]"
     ]
    },
    {
     "name": "stdout",
     "output_type": "stream",
     "text": [
      "{\n",
      "  \"sr_type\": \"Installation\",\n",
      "  \"last_name\": \"梁先生\",\n",
      "  \"phone_number1\": \"\",\n",
      "  \"state_name\": \"\",\n",
      "  \"city_name\": \"\",\n",
      "  \"address\": \"高床面\",\n",
      "  \"product_category\": \"雪櫃\",\n",
      "  \"product_brand\": \"\",\n",
      "  \"serial_number\": \"ARI-200H\",\n",
      "  \"symptom_description\": \"产品无法正常工作，需要调整温度设置或请师傅上门检查\",\n",
      "  \"summary\": \"客户需要安装雪柜并询问产品型号、使用问题及预约师傅上门检查。\"\n",
      "}\n"
     ]
    },
    {
     "name": "stderr",
     "output_type": "stream",
     "text": [
      " 44%|████▍     | 8/18 [00:46<00:58,  5.86s/it]"
     ]
    },
    {
     "name": "stdout",
     "output_type": "stream",
     "text": [
      "{\n",
      "  \"sr_type\": \"Inquiry\",\n",
      "  \"last_name\": \"陳女士\",\n",
      "  \"phone_number1\": \"96849108\",\n",
      "  \"state_name\": \"\",\n",
      "  \"city_name\": \"\",\n",
      "  \"address\": \"啟程邨欣賞個賞3307\",\n",
      "  \"product_category\": \"洗衣機\",\n",
      "  \"product_brand\": \"豐集\",\n",
      "  \"serial_number\": \"TW-DR85A2H\",\n",
      "  \"symptom_description\": \"洗衣機洗完衫後，衫上黏有黑色一片片的不明物體\",\n",
      "  \"summary\": \"顧客陳女士反映其豐集品牌洗衣機在保養期內出現問題，洗衣後衫上黏有黑色物體，請求技術人員上門檢查。\"\n",
      "}\n"
     ]
    },
    {
     "name": "stderr",
     "output_type": "stream",
     "text": [
      " 50%|█████     | 9/18 [00:51<00:51,  5.68s/it]"
     ]
    },
    {
     "name": "stdout",
     "output_type": "stream",
     "text": [
      "{\n",
      "  \"sr_type\": \"Repair\",\n",
      "  \"last_name\": \"余先生\",\n",
      "  \"phone_number1\": \"90256922\",\n",
      "  \"state_name\": \"\",\n",
      "  \"city_name\": \"\",\n",
      "  \"address\": \"柴湾道一百一十一号\",\n",
      "  \"product_category\": \"抽湿机\",\n",
      "  \"product_brand\": \"\",\n",
      "  \"serial_number\": \"RADY200H\",\n",
      "  \"symptom_description\": \"水箱接不到水，水直接流落地下\",\n",
      "  \"summary\": \"余先生的抽湿机使用半年后出现问题，水箱接不到水，水直接流落地下，需要维修。\"\n",
      "}\n"
     ]
    },
    {
     "name": "stderr",
     "output_type": "stream",
     "text": [
      " 56%|█████▌    | 10/18 [00:56<00:42,  5.34s/it]"
     ]
    },
    {
     "name": "stdout",
     "output_type": "stream",
     "text": [
      "{\n",
      "  \"sr_type\": \"Repair\",\n",
      "  \"last_name\": \"Cindyasion先生\",\n",
      "  \"phone_number1\": \"52652525\",\n",
      "  \"state_name\": \"\",\n",
      "  \"city_name\": \"\",\n",
      "  \"address\": \"天龙村公安路\",\n",
      "  \"product_category\": \"洗衣機\",\n",
      "  \"product_brand\": \"\",\n",
      "  \"serial_number\": \"\",\n",
      "  \"symptom_description\": \"死機漏水\",\n",
      "  \"summary\": \"客户报告其购买的洗衣机在安装后出现漏水问题，客服安排维修师傅在下周一上门维修。\"\n",
      "}\n"
     ]
    },
    {
     "name": "stderr",
     "output_type": "stream",
     "text": [
      " 61%|██████    | 11/18 [01:01<00:36,  5.14s/it]"
     ]
    },
    {
     "name": "stdout",
     "output_type": "stream",
     "text": [
      "{\n",
      "  \"sr_type\": \"Inquiry\",\n",
      "  \"last_name\": \"小姐\",\n",
      "  \"phone_number1\": \"\",\n",
      "  \"state_name\": \"\",\n",
      "  \"city_name\": \"\",\n",
      "  \"address\": \"\",\n",
      "  \"product_category\": \"蒸焗炉\",\n",
      "  \"product_brand\": \"MX3\",\n",
      "  \"serial_number\": \"STQ20SC\",\n",
      "  \"symptom_description\": \"蒸氣管嘈，有泵出水\",\n",
      "  \"summary\": \"客户询问关于购买蒸焗炉的保修期、续保费用和维修服务详情。\"\n",
      "}\n"
     ]
    },
    {
     "name": "stderr",
     "output_type": "stream",
     "text": [
      " 67%|██████▋   | 12/18 [01:06<00:31,  5.23s/it]"
     ]
    },
    {
     "name": "stdout",
     "output_type": "stream",
     "text": [
      "{\n",
      "  \"sr_type\": \"Repair\",\n",
      "  \"last_name\": \"胡先生\",\n",
      "  \"phone_number1\": \"95005367\",\n",
      "  \"state_name\": \"\",\n",
      "  \"city_name\": \"\",\n",
      "  \"address\": \"\",\n",
      "  \"product_category\": \"蒸焗爐\",\n",
      "  \"product_brand\": \"\",\n",
      "  \"serial_number\": \"MS2TQ20SC\",\n",
      "  \"symptom_description\": \"去水問題，首次使用時就已經發現去水問題，且持續出現\",\n",
      "  \"summary\": \"顧客報告蒸焗爐首次使用時就發現去水問題，且持續出現，要求約請上門維修。\"\n",
      "}\n"
     ]
    },
    {
     "name": "stderr",
     "output_type": "stream",
     "text": [
      " 72%|███████▏  | 13/18 [01:12<00:27,  5.50s/it]"
     ]
    },
    {
     "name": "stdout",
     "output_type": "stream",
     "text": [
      "{\n",
      "  \"sr_type\": \"Repair\",\n",
      "  \"last_name\": \"鄧女士\",\n",
      "  \"phone_number1\": \"6221\",\n",
      "  \"state_name\": \"\",\n",
      "  \"city_name\": \"\",\n",
      "  \"address\": \"啟善留九一八六\",\n",
      "  \"product_category\": \"洗衣機\",\n",
      "  \"product_brand\": \"豐達\",\n",
      "  \"serial_number\": \"AW800ABH2W\",\n",
      "  \"symptom_description\": \"面板显示两个E，未完成\",\n",
      "  \"summary\": \"鄧女士在豐達購買了一部洗衣機，現面板顯示兩個E，未完成，需要修理。她將於2月23日由師傅上門檢查並修理，並需要提供購買單及保用證。\"\n",
      "}\n"
     ]
    },
    {
     "name": "stderr",
     "output_type": "stream",
     "text": [
      " 78%|███████▊  | 14/18 [01:19<00:23,  5.83s/it]"
     ]
    },
    {
     "name": "stdout",
     "output_type": "stream",
     "text": [
      "{\n",
      "  \"sr_type\": \"Repair\",\n",
      "  \"last_name\": \"歐先生\",\n",
      "  \"phone_number1\": \"96772650\",\n",
      "  \"state_name\": \"\",\n",
      "  \"city_name\": \"\",\n",
      "  \"address\": \"青衣雲福花園四座十樓C室\",\n",
      "  \"product_category\": \"蒸氣爐\",\n",
      "  \"product_brand\": \"施山登記\",\n",
      "  \"serial_number\": \"MS3SQ20SQ\",\n",
      "  \"symptom_description\": \"玻璃部分有裂痕，使用时会发出声响，有时会自行弹起\",\n",
      "  \"summary\": \"顧客希望維修其購買的施山蒸氣爐，產品出現玻璃裂痕及異常聲音的問題，預約維修時間為四月六日，下午十二點至五點。\"\n",
      "}\n"
     ]
    },
    {
     "name": "stderr",
     "output_type": "stream",
     "text": [
      " 83%|████████▎ | 15/18 [01:23<00:16,  5.43s/it]"
     ]
    },
    {
     "name": "stdout",
     "output_type": "stream",
     "text": [
      "{\n",
      "  \"sr_type\": \"Installation\",\n",
      "  \"last_name\": \"羅女士\",\n",
      "  \"phone_number1\": \"64886061\",\n",
      "  \"state_name\": \"\",\n",
      "  \"city_name\": \"\",\n",
      "  \"address\": \"\",\n",
      "  \"product_category\": \"\",\n",
      "  \"product_brand\": \"\",\n",
      "  \"serial_number\": \"\",\n",
      "  \"symptom_description\": \"\",\n",
      "  \"summary\": \"顧客羅女士希望在4月26日早上安裝洗衣機，但時間不確定，客服表示會安排師傅上門安裝，並會提前電話通知。\"\n",
      "}\n"
     ]
    },
    {
     "name": "stderr",
     "output_type": "stream",
     "text": [
      " 89%|████████▉ | 16/18 [01:29<00:11,  5.60s/it]"
     ]
    },
    {
     "name": "stdout",
     "output_type": "stream",
     "text": [
      "{\n",
      "  \"sr_type\": \"Inquiry\",\n",
      "  \"last_name\": \"鄭先生\",\n",
      "  \"phone_number1\": \"\",\n",
      "  \"state_name\": \"\",\n",
      "  \"city_name\": \"\",\n",
      "  \"address\": \"\",\n",
      "  \"product_category\": \"洗碗碟機\",\n",
      "  \"product_brand\": \"東芝\",\n",
      "  \"serial_number\": \"\",\n",
      "  \"symptom_description\": \"產品在使用後出現未完全風干問題，特別是「清爽」模式下，產品內部仍有水滴，影響衛生和使用體驗。\",\n",
      "  \"summary\": \"顧客反映東芝洗碗碟機在「清爽」模式下未完全風干問題，產品內部仍有水滴，影響衛生和使用體驗。\"\n",
      "}\n"
     ]
    },
    {
     "name": "stderr",
     "output_type": "stream",
     "text": [
      " 94%|█████████▍| 17/18 [01:34<00:05,  5.42s/it]"
     ]
    },
    {
     "name": "stdout",
     "output_type": "stream",
     "text": [
      "{\n",
      "  \"sr_type\": \"Repair\",\n",
      "  \"last_name\": \"未知先生\",\n",
      "  \"phone_number1\": \"66504092\",\n",
      "  \"state_name\": \"未知\",\n",
      "  \"city_name\": \"未知\",\n",
      "  \"address\": \"未知\",\n",
      "  \"product_category\": \"洗衣機\",\n",
      "  \"product_brand\": \"未知\",\n",
      "  \"serial_number\": \"未知\",\n",
      "  \"symptom_description\": \"發出怪聲，在入水時機器無法運行\",\n",
      "  \"summary\": \"顧客報告洗衣機在入水時無法運行且發出怪聲，需要修理。\"\n",
      "}\n"
     ]
    },
    {
     "name": "stderr",
     "output_type": "stream",
     "text": [
      "100%|██████████| 18/18 [01:41<00:00,  5.61s/it]"
     ]
    },
    {
     "name": "stdout",
     "output_type": "stream",
     "text": [
      "{\n",
      "  \"sr_type\": \"Installation\",\n",
      "  \"last_name\": \"秦女士\",\n",
      "  \"phone_number1\": \"98331297\",\n",
      "  \"state_name\": \"\",\n",
      "  \"city_name\": \"粉嶺\",\n",
      "  \"address\": \"華明邨信名樓一九一二\",\n",
      "  \"product_category\": \"洗衣機\",\n",
      "  \"product_brand\": \"AWM801\",\n",
      "  \"serial_number\": \"APH\",\n",
      "  \"symptom_description\": \"\",\n",
      "  \"summary\": \"秦女士詢問關於其在三月五日於伊羅購買的AWM801型號洗衣機的安裝事宜，客服確認已收到貨物，並告知將於次日安排安裝，且因購買時間在三月內，享受免费安装服务。\"\n",
      "}\n"
     ]
    },
    {
     "name": "stderr",
     "output_type": "stream",
     "text": [
      "\n"
     ]
    }
   ],
   "source": [
    "from transformers import AutoTokenizer\n",
    "import sagemaker\n",
    "from sagemaker import Model, image_uris, serializers, deserializers\n",
    "from tqdm import tqdm\n",
    "import time\n",
    "import json\n",
    "import re\n",
    "\n",
    "role = sagemaker.get_execution_role()  # execution role for the endpoint\n",
    "sess = sagemaker.session.Session()  # sagemaker session for interacting with different AWS APIs\n",
    "region = sess._region_name  # region name of the current SageMaker Studio environment\n",
    "account_id = sess.account_id()  # account_id of the current SageMaker Studio environment\n",
    "\n",
    "endpoint_name = 'Qwen2-7B-Instruct-2024-06-25-03-29-20-049'\n",
    "\n",
    "predictor = sagemaker.Predictor(\n",
    "    endpoint_name=endpoint_name, \n",
    "    # sagemaker_session=sess,\n",
    "    serializer=serializers.JSONSerializer()\n",
    ")\n",
    "\n",
    "model_dir = '/home/ec2-user/SageMaker/efs/Models/Qwen2-7B-Instruct'\n",
    "tokenizer = AutoTokenizer.from_pretrained(model_dir)\n",
    "\n",
    "model_name = 'qwen2-7b'\n",
    "\n",
    "num_test = min(100, df.shape[0])\n",
    "for i, row in tqdm(df[:num_test].iterrows(), total=num_test):\n",
    "    content = row[dialogue_col]\n",
    "    \n",
    "#     prompt = f\"\"\"下面是一段agent与customer的对话\n",
    "# {content}\n",
    "\n",
    "# 请从上面的对话中抽取如下信息，并以json格式返回，如果对话中没有提到相应字段的内容，则填\"\"：\n",
    "#  {{\"customerType\": \"个人\", \"customerName\": \"溫先生\", \"phoneNumber1\": \"\", \"phoneNumber2\": \"\", \"email\": \"\", \"address\": \"楊逸居第三座,九樓,A7\", \"productBrand\": \"Toshiba\", \"productCategoryName\": \"\", \"serialNumber\": \"ER-GD400HK\", \"srType\": \"维修\", \"srSubType\": \"维修\", \"symptomDescription\": \"燈膽燒了\", \"customerRequest\": \"維修法\", \"refNo\": \"\", \"selloutInvoiceNum\": \"\", \"salesDealerName\": \"\", \"installDealerName\": \"\"}}\n",
    " \n",
    "# 注意只返回抽取的json格式的结果，不返回其它额外信息。 \n",
    "# \"\"\"\n",
    "\n",
    "#     prompt = f\"\"\"这是一个命名实体识别任务，需要你参考<样例>，对给定的<文本>(包含了一段agent与customer的对话)抽取对应的实体 。\n",
    "\n",
    "# <样例>\n",
    "# 输入：{example}\n",
    "# 输出：{{\"customer_type\": \"Person\",\"sr_type\": \"Repair\", \"sr_sub_type\": \"Repair\", \"last_name\": \"余先生\", \"country_code\": \"HK\", \"phone_number1\": \"90997910\", \"phone_number2\": \"<NULL>\", \"email\": \"<NULL>\", \"state_name\": \"港島\", \"city_name\": \"東區\", \"address\": \"港島 東區 柴灣 高威閣 4座 8樓 C室\", \"reference_num\": \"<NULL>\", \"product_brand\": \"TOSHIBA\", \"product_category\": \"<NULL>\", \"symptom_description\": \"機件故障\", \"customer_request\": \"<NULL>\"}}\n",
    "\n",
    "# <文本>\n",
    "# 输入：{content}\n",
    "# 输出：\n",
    "# \"\"\"\n",
    "    # system_prompt = \"你是一位资深的客服中心坐席经理，你的任务是从给定的对话中抽取要求的关键信息并按要求的格式返回结果。\"\n",
    "    \n",
    "# 输出：{{\"sr_type\": \"Repair\", \"last_name\": \"余\", \"phone_number1\": \"90997910\", \"state_name\": \"港島\", \"city_name\": \"東區\", \"address\": \"港島 東區 柴灣 高威閣 4座 8樓 C室\", \"product_brand\": \"TOSHIBA\", \"product_category\": \"焗爐\", \"symptom_description\": \"機件故障\", \"summary\": \"...\"}}\n",
    "\n",
    "#     prompt = f\"\"\"\\\n",
    "# 请从下面customer和agent的对话中，提取如下信息\n",
    "\n",
    "# 1. sr_type: customer的请求类型，根据对话内容从 [Repair, Inquiry, Installation] 中选择一个；\n",
    "# 2. last_name: customer 的姓，需要加上\"先生\"、\"女士\"的称呼，例如 \"余先生\"，\"叶女士\"；\n",
    "# 3. phone_number1: customer 的电话号码，请用阿拉伯数字返回；\n",
    "# 4. state_name: customer 地址的 state, 例如 \"港島\"；\n",
    "# 5. city_name: customer 地址的 city, 例如 \"東區\"；\n",
    "# 6. address: customer 的详细地址；\n",
    "# 7. product_category: 产品的种类，例如 \"焗爐\"；\n",
    "# 8. product_brand: 产品的品牌，例如 \"TOSHIBA\"；\n",
    "# 9. serial_number: 产品型號；\n",
    "# 10. symptom_description: 产品的问题描述，例如 \"燈膽燒壞\"；\n",
    "# 11. summary: 对话的简单总结，限50字。\n",
    "\n",
    "# 注意：\n",
    "# 1. 如果对话中没有提及，以\"\"填充，不要编造；\n",
    "# 2. 提取的信息以json格式返回，并且只返回json格式的结果，不返回任何其它信息。\n",
    "\n",
    "# 输入：{content}\n",
    "# 输出：\n",
    "# \"\"\"\n",
    "\n",
    "    system_prompt = \"你係一位资深嘅客服中心坐席经理，你嘅任务係从畀定嘅对话中抽取要求嘅关键信息并按要求嘅格式返回结果。\"\n",
    "\n",
    "    prompt = f\"\"\"\\\n",
    "请从下面 customer 和 agent 嘅对话中，提取如下信息：\n",
    "\n",
    "1. sr_type: customer 嘅请求类型，根據对话内容从 [Repair, Inquiry, Installation] 中揀一个；\n",
    "2. last_name: customer 嘅姓，需要加上 \"先生\"、\"女士\" 嘅称呼，例如 \"余先生\"，\"叶女士\"；\n",
    "3. phone_number1: customer 嘅电话号码，请用阿拉伯数字返回；\n",
    "4. state_name: customer 地址嘅 state；\n",
    "5. city_name: customer 地址嘅 city；\n",
    "6. address: customer 嘅详细地址；\n",
    "7. product_category: 产品嘅种类\"；\n",
    "8. product_brand: 产品嘅品牌；\n",
    "9. serial_number: 产品型号；\n",
    "10. symptom_description: 产品嘅问题描述；\n",
    "11. summary: 对话嘅简单总结，限 50 字。\n",
    "\n",
    "注意：\n",
    "1. 如果对话中冇提及，以 \"\" 填充，唔好編造；\n",
    "2. 提取嘅信息以 JSON 格式返回，并且只返回 JSON 格式嘅结果，唔返回任何其他信息。\n",
    "\n",
    "输入：{content}\n",
    "输出：\n",
    "\"\"\"\n",
    "    \n",
    "    try:\n",
    "        start_time = time.time()\n",
    "\n",
    "        ## vllm direct deployment\n",
    "        # response = predict(prompt, [])\n",
    "        # generated_text = response.choices[0].message.content\n",
    "\n",
    "        # sagemaker endpoint deployment\n",
    "        generated_text = invoke_endpoint(predictor, tokenizer, prompt, system_prompt)\n",
    "        # print(type(generated_text), generated_text)\n",
    "\n",
    "        time_cost = time.time() - start_time\n",
    "\n",
    "        df.loc[i, f'extracted_info_{model_name}'] = generated_text\n",
    "        json_text = re.search(r'{.*}', generated_text, re.DOTALL).group(0)\n",
    "        print(json_text)\n",
    "        \n",
    "        res = json.loads(json_text)\n",
    "        if isinstance(res, dict):\n",
    "            for k, v in res.items():\n",
    "                df.loc[i, f\"{k}_{model_name}\"] = v\n",
    "\n",
    "        df.loc[i, f'time_cost_{model_name}'] = time_cost\n",
    "    except Exception as e:\n",
    "        print(f\"Exception: {e}\")\n",
    "        print(f\"contact_id: {row['contact_id']}\")\n",
    "        print(f\"result: {generated_text}\")"
   ]
  },
  {
   "cell_type": "code",
   "execution_count": 10,
   "id": "b9e7e8f5-feb6-4299-af19-e3c71af1c58f",
   "metadata": {
    "tags": []
   },
   "outputs": [
    {
     "data": {
      "text/html": [
       "<div>\n",
       "<style scoped>\n",
       "    .dataframe tbody tr th:only-of-type {\n",
       "        vertical-align: middle;\n",
       "    }\n",
       "\n",
       "    .dataframe tbody tr th {\n",
       "        vertical-align: top;\n",
       "    }\n",
       "\n",
       "    .dataframe thead th {\n",
       "        text-align: right;\n",
       "    }\n",
       "</style>\n",
       "<table border=\"1\" class=\"dataframe\">\n",
       "  <thead>\n",
       "    <tr style=\"text-align: right;\">\n",
       "      <th></th>\n",
       "      <th>contact_id</th>\n",
       "      <th>content_v7_ckpt60</th>\n",
       "      <th>extracted_info_qwen2-7b</th>\n",
       "      <th>sr_type_qwen2-7b</th>\n",
       "      <th>last_name_qwen2-7b</th>\n",
       "      <th>phone_number1_qwen2-7b</th>\n",
       "      <th>state_name_qwen2-7b</th>\n",
       "      <th>city_name_qwen2-7b</th>\n",
       "      <th>address_qwen2-7b</th>\n",
       "      <th>product_category_qwen2-7b</th>\n",
       "      <th>product_brand_qwen2-7b</th>\n",
       "      <th>serial_number_qwen2-7b</th>\n",
       "      <th>symptom_description_qwen2-7b</th>\n",
       "      <th>summary_qwen2-7b</th>\n",
       "      <th>time_cost_qwen2-7b</th>\n",
       "    </tr>\n",
       "  </thead>\n",
       "  <tbody>\n",
       "    <tr>\n",
       "      <th>0</th>\n",
       "      <td>0e46d005-4c13-4300-add0-683761ad3ebd</td>\n",
       "      <td>agent: 唔講東區服務部喎姓楊有咩幫到你呀\\ncustomer: 你好呀楊小姐我姓葉㗎\\...</td>\n",
       "      <td>```json\\n{\\n  \"sr_type\": \"Inquiry\",\\n  \"last_n...</td>\n",
       "      <td>Inquiry</td>\n",
       "      <td>葉女士</td>\n",
       "      <td></td>\n",
       "      <td></td>\n",
       "      <td></td>\n",
       "      <td></td>\n",
       "      <td>飯煲</td>\n",
       "      <td></td>\n",
       "      <td>RC-18NMF IH-WT</td>\n",
       "      <td>煮飯唔夠唔甜，出現C14錯誤，產品問題</td>\n",
       "      <td>葉女士購買一個月的蘇寧飯煲出現煮飯不夠甜及C14錯誤，經多次嘗試後問題未解決，疑責產品問題。</td>\n",
       "      <td>5.828054</td>\n",
       "    </tr>\n",
       "    <tr>\n",
       "      <th>1</th>\n",
       "      <td>11383068-87cc-4d16-a7b2-bc5a518c7472</td>\n",
       "      <td>agent: 你，係你好通知\\ncustomer: 係你好\\ncustomer: 係我屋企嗰...</td>\n",
       "      <td>```json\\n{\\n  \"sr_type\": \"Repair\",\\n  \"last_na...</td>\n",
       "      <td>Repair</td>\n",
       "      <td>宋先生</td>\n",
       "      <td></td>\n",
       "      <td></td>\n",
       "      <td></td>\n",
       "      <td></td>\n",
       "      <td>Stove</td>\n",
       "      <td>Sogo</td>\n",
       "      <td>MS5TR630SC</td>\n",
       "      <td>无法启动，灯不亮，蒸煮功能无法使用，有水漏到桌面</td>\n",
       "      <td>客户报告其Sogo品牌蒸炉无法启动，灯不亮，且有水漏到桌面，询问维修事宜。</td>\n",
       "      <td>5.351527</td>\n",
       "    </tr>\n",
       "    <tr>\n",
       "      <th>2</th>\n",
       "      <td>3ee4b9f4-7674-4978-9066-d89b46c9adb4</td>\n",
       "      <td>agent: 早晨都稍後復過性樂嘅咁吖吖\\ncustomer: 喂係係呀我想問問呢我有一個嗰...</td>\n",
       "      <td>```json\\n{\\n  \"sr_type\": \"Repair\",\\n  \"last_na...</td>\n",
       "      <td>Repair</td>\n",
       "      <td>溫先生</td>\n",
       "      <td></td>\n",
       "      <td></td>\n",
       "      <td></td>\n",
       "      <td>九龍尖沙咀柯士尖道楊逸居第三座九樓LIP禁九字A室</td>\n",
       "      <td>微波爐</td>\n",
       "      <td></td>\n",
       "      <td>ER-GD-400HK-XR</td>\n",
       "      <td>燈膽燒壞</td>\n",
       "      <td>顧客溫先生有一個微波爐的燈膽燒壞，需要維修。顧客提供地址為九龍尖沙咀柯士尖道楊逸居第三座九樓...</td>\n",
       "      <td>7.460177</td>\n",
       "    </tr>\n",
       "    <tr>\n",
       "      <th>3</th>\n",
       "      <td>47627d48-9452-4639-8d27-154b61a3a185</td>\n",
       "      <td>customer: 執行執勢經營\\ncustomer: 執行執勢經營\\ncustomer: ...</td>\n",
       "      <td>```json\\n{\\n  \"sr_type\": \"Repair\",\\n  \"last_na...</td>\n",
       "      <td>Repair</td>\n",
       "      <td>王先生</td>\n",
       "      <td></td>\n",
       "      <td></td>\n",
       "      <td></td>\n",
       "      <td></td>\n",
       "      <td>蒸氣焗爐</td>\n",
       "      <td></td>\n",
       "      <td></td>\n",
       "      <td>產品無水，但實際上有油，且在使用過程中出現漏水問題</td>\n",
       "      <td>顧客報告蒸氣焗爐在使用時出現無水問題，實際上產品內有油，且在之前的維修中存在漏水問題。</td>\n",
       "      <td>4.756153</td>\n",
       "    </tr>\n",
       "    <tr>\n",
       "      <th>4</th>\n",
       "      <td>53b4c19b-4042-46ba-a4e6-a1893f4704d4</td>\n",
       "      <td>agent: 有咩幫到你\\ncustomer: 唔該我屋企有個蒸氣焗爐呀\\nagent: 係...</td>\n",
       "      <td>```json\\n{\\n  \"sr_type\": \"Repair\",\\n  \"last_na...</td>\n",
       "      <td>Repair</td>\n",
       "      <td>李女士</td>\n",
       "      <td></td>\n",
       "      <td>星谷路</td>\n",
       "      <td></td>\n",
       "      <td>雨晴軒 审座廿九詩</td>\n",
       "      <td>蒸氣焗爐</td>\n",
       "      <td></td>\n",
       "      <td>MS2PQ205C</td>\n",
       "      <td>不出蒸氣</td>\n",
       "      <td>客户李女士的蒸氣焗爐不出蒸氣，预约师傅上门维修，费用为330元，如果现场可以维修则现场报价，...</td>\n",
       "      <td>5.692189</td>\n",
       "    </tr>\n",
       "  </tbody>\n",
       "</table>\n",
       "</div>"
      ],
      "text/plain": [
       "                             contact_id  \\\n",
       "0  0e46d005-4c13-4300-add0-683761ad3ebd   \n",
       "1  11383068-87cc-4d16-a7b2-bc5a518c7472   \n",
       "2  3ee4b9f4-7674-4978-9066-d89b46c9adb4   \n",
       "3  47627d48-9452-4639-8d27-154b61a3a185   \n",
       "4  53b4c19b-4042-46ba-a4e6-a1893f4704d4   \n",
       "\n",
       "                                   content_v7_ckpt60  \\\n",
       "0  agent: 唔講東區服務部喎姓楊有咩幫到你呀\\ncustomer: 你好呀楊小姐我姓葉㗎\\...   \n",
       "1  agent: 你，係你好通知\\ncustomer: 係你好\\ncustomer: 係我屋企嗰...   \n",
       "2  agent: 早晨都稍後復過性樂嘅咁吖吖\\ncustomer: 喂係係呀我想問問呢我有一個嗰...   \n",
       "3  customer: 執行執勢經營\\ncustomer: 執行執勢經營\\ncustomer: ...   \n",
       "4  agent: 有咩幫到你\\ncustomer: 唔該我屋企有個蒸氣焗爐呀\\nagent: 係...   \n",
       "\n",
       "                             extracted_info_qwen2-7b sr_type_qwen2-7b  \\\n",
       "0  ```json\\n{\\n  \"sr_type\": \"Inquiry\",\\n  \"last_n...          Inquiry   \n",
       "1  ```json\\n{\\n  \"sr_type\": \"Repair\",\\n  \"last_na...           Repair   \n",
       "2  ```json\\n{\\n  \"sr_type\": \"Repair\",\\n  \"last_na...           Repair   \n",
       "3  ```json\\n{\\n  \"sr_type\": \"Repair\",\\n  \"last_na...           Repair   \n",
       "4  ```json\\n{\\n  \"sr_type\": \"Repair\",\\n  \"last_na...           Repair   \n",
       "\n",
       "  last_name_qwen2-7b phone_number1_qwen2-7b state_name_qwen2-7b  \\\n",
       "0                葉女士                                              \n",
       "1                宋先生                                              \n",
       "2                溫先生                                              \n",
       "3                王先生                                              \n",
       "4                李女士                                        星谷路   \n",
       "\n",
       "  city_name_qwen2-7b           address_qwen2-7b product_category_qwen2-7b  \\\n",
       "0                                                                      飯煲   \n",
       "1                                                                   Stove   \n",
       "2                     九龍尖沙咀柯士尖道楊逸居第三座九樓LIP禁九字A室                       微波爐   \n",
       "3                                                                    蒸氣焗爐   \n",
       "4                                     雨晴軒 审座廿九詩                      蒸氣焗爐   \n",
       "\n",
       "  product_brand_qwen2-7b serial_number_qwen2-7b symptom_description_qwen2-7b  \\\n",
       "0                                RC-18NMF IH-WT          煮飯唔夠唔甜，出現C14錯誤，產品問題   \n",
       "1                   Sogo             MS5TR630SC     无法启动，灯不亮，蒸煮功能无法使用，有水漏到桌面   \n",
       "2                                ER-GD-400HK-XR                         燈膽燒壞   \n",
       "3                                                  產品無水，但實際上有油，且在使用過程中出現漏水問題   \n",
       "4                                     MS2PQ205C                         不出蒸氣   \n",
       "\n",
       "                                    summary_qwen2-7b  time_cost_qwen2-7b  \n",
       "0     葉女士購買一個月的蘇寧飯煲出現煮飯不夠甜及C14錯誤，經多次嘗試後問題未解決，疑責產品問題。            5.828054  \n",
       "1              客户报告其Sogo品牌蒸炉无法启动，灯不亮，且有水漏到桌面，询问维修事宜。            5.351527  \n",
       "2  顧客溫先生有一個微波爐的燈膽燒壞，需要維修。顧客提供地址為九龍尖沙咀柯士尖道楊逸居第三座九樓...            7.460177  \n",
       "3        顧客報告蒸氣焗爐在使用時出現無水問題，實際上產品內有油，且在之前的維修中存在漏水問題。            4.756153  \n",
       "4  客户李女士的蒸氣焗爐不出蒸氣，预约师傅上门维修，费用为330元，如果现场可以维修则现场报价，...            5.692189  "
      ]
     },
     "execution_count": 10,
     "metadata": {},
     "output_type": "execute_result"
    }
   ],
   "source": [
    "df.head()"
   ]
  },
  {
   "cell_type": "code",
   "execution_count": 11,
   "id": "8b8d106f-da51-4498-af7d-16a3c25d290c",
   "metadata": {
    "tags": []
   },
   "outputs": [],
   "source": [
    "df.to_excel(\"outputs/transcripts_demo.xlsx\", index=False)"
   ]
  },
  {
   "cell_type": "code",
   "execution_count": null,
   "id": "8f2148cf-faaa-47d1-ab06-617da27720a7",
   "metadata": {},
   "outputs": [],
   "source": []
  }
 ],
 "metadata": {
  "kernelspec": {
   "display_name": "conda_qwen_py310",
   "language": "python",
   "name": "conda_qwen_py310"
  },
  "language_info": {
   "codemirror_mode": {
    "name": "ipython",
    "version": 3
   },
   "file_extension": ".py",
   "mimetype": "text/x-python",
   "name": "python",
   "nbconvert_exporter": "python",
   "pygments_lexer": "ipython3",
   "version": "3.10.14"
  }
 },
 "nbformat": 4,
 "nbformat_minor": 5
}
